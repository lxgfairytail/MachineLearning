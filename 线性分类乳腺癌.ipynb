{
 "cells": [
  {
   "cell_type": "code",
   "execution_count": 1,
   "metadata": {
    "collapsed": false
   },
   "outputs": [
    {
     "name": "stdout",
     "output_type": "stream",
     "text": [
      "第一行数据为:\n",
      " Sample code number             1000025\n",
      " Clump Thickness                     5\n",
      "Uniformity of Cell Size              1\n",
      "Uniformity of Cell Shape             1\n",
      "Marginal Adhesion                    1\n",
      "Single Epithelial Cell Size          2\n",
      "Bare Nuclei                          1\n",
      "Bland Chromatin                      3\n",
      "Normal Nucleoli                      1\n",
      "Mitoses                              1\n",
      "Class                                2\n",
      "Name: 0, dtype: object\n",
      "columns 为:\n",
      " Index(['Sample code number', ' Clump Thickness', 'Uniformity of Cell Size',\n",
      "       'Uniformity of Cell Shape', 'Marginal Adhesion',\n",
      "       'Single Epithelial Cell Size', 'Bare Nuclei', 'Bland Chromatin',\n",
      "       'Normal Nucleoli', 'Mitoses', 'Class'],\n",
      "      dtype='object')\n",
      "RangeIndex(start=0, stop=699, step=1)\n",
      "[[1000025 5 1 ..., 1 1 2]\n",
      " [1002945 5 4 ..., 2 1 2]\n",
      " [1015425 3 1 ..., 1 1 2]\n",
      " ..., \n",
      " [888820 5 10 ..., 10 2 4]\n",
      " [897471 4 8 ..., 6 1 4]\n",
      " [897471 4 8 ..., 4 1 4]]\n",
      "原始数据大小为： (699, 11)\n"
     ]
    }
   ],
   "source": [
    "import numpy as np\n",
    "import pandas as pd\n",
    "# 创建特征列表\n",
    "column_names = ['Sample code number',' Clump Thickness','Uniformity of Cell Size',\n",
    "               'Uniformity of Cell Shape','Marginal Adhesion','Single Epithelial Cell Size',\n",
    "               'Bare Nuclei','Bland Chromatin','Normal Nucleoli','Mitoses','Class']\n",
    "data = pd.read_csv('http://archive.ics.uci.edu/ml/machine-learning-databases/breast-cancer-wisconsin/breast-cancer-wisconsin.data',\n",
    "                  names = column_names)\n",
    "print('第一行数据为:\\n',data.iloc[0])\n",
    "print('columns 为:\\n',data.columns)\n",
    "print(data.index)\n",
    "print(data.values)\n",
    "print('原始数据大小为：',data.shape)"
   ]
  },
  {
   "cell_type": "code",
   "execution_count": 2,
   "metadata": {
    "collapsed": false
   },
   "outputs": [
    {
     "name": "stdout",
     "output_type": "stream",
     "text": [
      "处理后大小为： (683, 11)\n"
     ]
    }
   ],
   "source": [
    "# 将？替换为标准缺失值表示\n",
    "data = data.replace(to_replace = \"?\",value = np.nan)\n",
    "# dropna 丢弃带有nan的纬度\n",
    "data = data.dropna(how = 'any')\n",
    "print('处理后大小为：',data.shape)"
   ]
  },
  {
   "cell_type": "code",
   "execution_count": 58,
   "metadata": {
    "collapsed": false
   },
   "outputs": [
    {
     "name": "stdout",
     "output_type": "stream",
     "text": [
      "训练样本数量和类别为：\n",
      "2    332\n",
      "4    180\n",
      "Name: Class, dtype: int64\n",
      "测试样本数量和类别为：\n",
      "2    112\n",
      "4     59\n",
      "Name: Class, dtype: int64\n"
     ]
    }
   ],
   "source": [
    "# 划分数据集\n",
    "from sklearn.model_selection import train_test_split\n",
    "# 随机采样25%的数据作为测试集\n",
    "X_train,X_test,y_train,y_test = train_test_split(data[column_names[1:10]],data[column_names[10]],test_size = 0.25)\n",
    "# 查看训练数据和测试数据数量和类别分布\n",
    "print('训练样本数量和类别为：')\n",
    "# value_counts()返回包含唯一值计数的对象\n",
    "print(y_train.value_counts())\n",
    "print('测试样本数量和类别为：')\n",
    "print(y_test.value_counts())"
   ]
  },
  {
   "cell_type": "code",
   "execution_count": 66,
   "metadata": {
    "collapsed": false,
    "scrolled": true
   },
   "outputs": [
    {
     "name": "stdout",
     "output_type": "stream",
     "text": [
      "LogisticRegression(C=1.0, class_weight=None, dual=False, fit_intercept=True,\n",
      "          intercept_scaling=1, max_iter=100, multi_class='ovr', n_jobs=1,\n",
      "          penalty='l2', random_state=None, solver='liblinear', tol=0.0001,\n",
      "          verbose=0, warm_start=False)\n",
      "SGDClassifier(alpha=0.0001, average=False, class_weight=None, epsilon=0.1,\n",
      "       eta0=0.0, fit_intercept=True, l1_ratio=0.15,\n",
      "       learning_rate='optimal', loss='hinge', n_iter=5, n_jobs=1,\n",
      "       penalty='l2', power_t=0.5, random_state=None, shuffle=True,\n",
      "       verbose=0, warm_start=False)\n",
      "运行完毕\n"
     ]
    }
   ],
   "source": [
    "# 进行线性分类\n",
    "from sklearn.preprocessing import StandardScaler\n",
    "from sklearn.linear_model import LogisticRegression\n",
    "from sklearn.linear_model import SGDClassifier #随机梯度下降算法\n",
    "\n",
    "ss = StandardScaler()\n",
    "X_train = ss.fit_transform(X_train)\n",
    "X_test = ss.transform(X_test)\n",
    "\n",
    "# 初始化LogisticRegression() 和 SGDClassifier() 分类器\n",
    "lr = LogisticRegression()\n",
    "sgdc = SGDClassifier()\n",
    "\n",
    "# 使用LogisticRegression()分类器来训练模型参数，并在测试集上预测输出\n",
    "lr.fit(X_train,y_train)\n",
    "lr_y_predict = lr.predict(X_test) \n",
    "print(lr)\n",
    "\n",
    "# 使用 SGDClassifier() 分类器来训练模型参数，并在测试集上预测输出\n",
    "sgdc.fit(X_train,y_train)\n",
    "sgdc_y_predict = sgdc.predict(X_test)\n",
    "print(sgdc)\n",
    "\n",
    "print('运行完毕')"
   ]
  },
  {
   "cell_type": "code",
   "execution_count": 67,
   "metadata": {
    "collapsed": false
   },
   "outputs": [
    {
     "name": "stdout",
     "output_type": "stream",
     "text": [
      " LogisticRegression 在训练集上的准确率： 0.974609375\n",
      " LogisticRegression 在测试集上的准确率： 0.953216374269\n",
      "             precision    recall  f1-score   support\n",
      "\n",
      "         良性       0.97      0.96      0.96       112\n",
      "         恶性       0.92      0.95      0.93        59\n",
      "\n",
      "avg / total       0.95      0.95      0.95       171\n",
      "\n",
      " SGDClassifier 在训练集上的准确率： 0.9765625\n",
      " SGDClassifier 在测试集上的准确率： 0.947368421053\n",
      "             precision    recall  f1-score   support\n",
      "\n",
      "         良性       0.98      0.94      0.96       112\n",
      "         恶性       0.89      0.97      0.93        59\n",
      "\n",
      "avg / total       0.95      0.95      0.95       171\n",
      "\n"
     ]
    }
   ],
   "source": [
    "# 模型预测评估\n",
    "from sklearn.metrics import classification_report\n",
    "\n",
    "# 1、使用自带的score函数进行查看准确率\n",
    "lr_train_accuary = lr.score(X_train,y_train)\n",
    "print(' LogisticRegression 在训练集上的准确率：',lr_train_accuary)\n",
    "lr_test_accuary = lr.score(X_test,y_test)\n",
    "print(' LogisticRegression 在测试集上的准确率：',lr_test_accuary)\n",
    "# 2、使用 classification_report 查看\n",
    "lr_report = classification_report(y_test,lr_y_predict,target_names = ['良性','恶性'])\n",
    "print(lr_report)\n",
    "\n",
    "###########################################################\n",
    "\n",
    "# 1、使用自带的score函数进行查看准确率\n",
    "sgdc_train_accuary = sgdc.score(X_train,y_train)\n",
    "print(' SGDClassifier 在训练集上的准确率：',sgdc_train_accuary)\n",
    "sgdc_test_accuary = sgdc.score(X_test,y_test)\n",
    "print(' SGDClassifier 在测试集上的准确率：',sgdc_test_accuary)\n",
    "# 2、使用 classification_report 查看\n",
    "sgdc_report = classification_report(y_test,sgdc_y_predict,target_names = ['良性','恶性'])\n",
    "print(sgdc_report)"
   ]
  },
  {
   "cell_type": "code",
   "execution_count": null,
   "metadata": {
    "collapsed": true
   },
   "outputs": [],
   "source": []
  }
 ],
 "metadata": {
  "kernelspec": {
   "display_name": "Python 3",
   "language": "python",
   "name": "python3"
  },
  "language_info": {
   "codemirror_mode": {
    "name": "ipython",
    "version": 3
   },
   "file_extension": ".py",
   "mimetype": "text/x-python",
   "name": "python",
   "nbconvert_exporter": "python",
   "pygments_lexer": "ipython3",
   "version": "3.6.0"
  }
 },
 "nbformat": 4,
 "nbformat_minor": 2
}
