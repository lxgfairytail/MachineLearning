{
 "cells": [
  {
   "cell_type": "code",
   "execution_count": 18,
   "metadata": {
    "collapsed": false
   },
   "outputs": [],
   "source": [
    "import numpy as np\n",
    "import operator\n",
    "from sklearn.datasets import load_iris\n",
    "\n",
    "iris = load_iris()\n",
    "\n",
    "X_train = iris.data\n",
    "Y_train = iris.target_names\n",
    "\n",
    "def calc_dist(X_test,X_train):\n",
    "    distance = 0\n",
    "    \n",
    "    for i in range(len(X_test)):\n",
    "        distance += pow((X_test[i]-X_train[i]),2)\n",
    "    return np.sqrt(distance)\n",
    "\n",
    "\n",
    "def kNN(X_test,X_train,Y_train,k):\n",
    "    # 存储 k 个相近的个体\n",
    "    kNeighbors = []\n",
    "    # 计算与测试个体最相近的 k 个个体\n",
    "    for each_x,each_y in zip(X_train,Y_train):\n",
    "        distance = calc_dist(X_test,each_x)\n",
    "        kNeighbors.append((each_x,each_y,distance))\n",
    "        \n",
    "    kNeighbors.sort(key = operator.itemgetter(2))\n",
    "    \n",
    "    # 存储最近邻个体\n",
    "    classCount = {}\n",
    "    \"\"\"\n",
    "    # 计算 k 个相邻个体中类别数最多的一个\n",
    "    for each in list(zip(*kNeighbors[0:k]))[1]:\n",
    "        if each in classCount.keys():\n",
    "            classCount[each] += 1\n",
    "        else:\n",
    "            classCount[each] = 1\n",
    "    \"\"\"\n",
    "    # 计算 k 个相邻个体中类别数最多的一个\n",
    "    for each in kNeighbors[0:k]:\n",
    "            classCount[each[1]] = classCount.get(each[1],0) + 1\n",
    "            \n",
    "    sortedCount = sorted(classCount.items(), key=operator.itemgetter(1), reverse=True)\n",
    "    \n",
    "    return sortedCount[0][0] "
   ]
  },
  {
   "cell_type": "code",
   "execution_count": 19,
   "metadata": {
    "collapsed": false
   },
   "outputs": [
    {
     "name": "stdout",
     "output_type": "stream",
     "text": [
      "virginica\n"
     ]
    }
   ],
   "source": [
    "Neighbors = kNN([1.,2.,3.,4.],X_train,Y_train,5)\n",
    "print(Neighbors)"
   ]
  },
  {
   "cell_type": "code",
   "execution_count": 23,
   "metadata": {
    "collapsed": false
   },
   "outputs": [
    {
     "name": "stdout",
     "output_type": "stream",
     "text": [
      "C\n"
     ]
    }
   ],
   "source": [
    "dataMat= np.array([[0.417,0.0,0.25,0.333],\n",
    "             [0.3,0.4,0.0,0.3],\n",
    "             [0.0,0.0,0.625,0.375],\n",
    "             [0.278,0.222,0.222,0.278],\n",
    "             [0.263,0.211,0.263,0.263]])\n",
    "testSet = [0.334,0.333,0.0,0.333]\n",
    "classLabel = np.array(['B','C','D','E','F'])\n",
    "print(kNN(testSet,dataMat,classLabel,3))"
   ]
  },
  {
   "cell_type": "code",
   "execution_count": 81,
   "metadata": {
    "collapsed": false
   },
   "outputs": [
    {
     "name": "stdout",
     "output_type": "stream",
     "text": [
      "[(1, 4, 7), (2, 5, 8), (3, 6, 9)]\n",
      "(3, 6, 9)\n"
     ]
    },
    {
     "data": {
      "text/plain": [
       "[3, 6, 9]"
      ]
     },
     "execution_count": 81,
     "metadata": {},
     "output_type": "execute_result"
    }
   ],
   "source": [
    "##############################################\n",
    "# 获取列表某一类\n",
    "a = [[1,2,3],[4,5,6],[7,8,9]]\n",
    "\n",
    "# 使用zip()将列表每一列打包\n",
    "b = list(zip(*a))\n",
    "print(b)\n",
    "print(b[2])\n",
    "\n",
    "# 使用循环\n",
    "[t[2] for t in a]"
   ]
  },
  {
   "cell_type": "code",
   "execution_count": null,
   "metadata": {
    "collapsed": true
   },
   "outputs": [],
   "source": []
  }
 ],
 "metadata": {
  "kernelspec": {
   "display_name": "Python 3",
   "language": "python",
   "name": "python3"
  },
  "language_info": {
   "codemirror_mode": {
    "name": "ipython",
    "version": 3
   },
   "file_extension": ".py",
   "mimetype": "text/x-python",
   "name": "python",
   "nbconvert_exporter": "python",
   "pygments_lexer": "ipython3",
   "version": "3.6.0"
  }
 },
 "nbformat": 4,
 "nbformat_minor": 2
}
