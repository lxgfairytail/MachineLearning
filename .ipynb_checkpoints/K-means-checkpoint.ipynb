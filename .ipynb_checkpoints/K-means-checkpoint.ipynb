{
 "cells": [
  {
   "cell_type": "code",
   "execution_count": 9,
   "metadata": {
    "collapsed": false
   },
   "outputs": [],
   "source": [
    "import numpy as np\n",
    "import random\n",
    "\n",
    "def K_means(X_data,k):\n",
    "    \n",
    "    rows, columns = X_data.shape\n",
    "    oldcentroids = np.zeros((k,columns))\n",
    "    centroids = np.zeros((k,columns))\n",
    "    \n",
    "    # 随机产生聚类中心\n",
    "    for i in range(k):\n",
    "        centroid = random.choice(X_data)\n",
    "        while centroid in centroids:\n",
    "            centroid =  random.choice(X_data)\n",
    "        centroids[i] = centroid\n",
    "        \n",
    "    while np.sum(np.square(centroids - oldcentroids)) > 0:\n",
    "        categories = []\n",
    "        # 不能直接 oldcentroids = centroids 否则两个变量会一样\n",
    "        oldcentroids[:] = centroids[:]\n",
    "        \n",
    "        \n",
    "        # 计算每个数据到中心的距离\n",
    "        for each_data in X_data:\n",
    "            distances = np.sum(np.square(each_data - centroids),axis=1)\n",
    "            min_index = np.argmin(distances)\n",
    "            categories.append(min_index)\n",
    "        \n",
    "        # 更新聚类中心\n",
    "        for i in range(k):\n",
    "            cluster_index = [index for index,cluster in enumerate(categories) if cluster == i]\n",
    "            category_centroids =[]\n",
    "            for index in cluster_index:\n",
    "                category_centroids.append(X_data[index])\n",
    "            centroids[i] = np.mean(category_centroids,axis=0)\n",
    "        \n",
    "    return centroids,categories  "
   ]
  },
  {
   "cell_type": "code",
   "execution_count": 12,
   "metadata": {
    "collapsed": false
   },
   "outputs": [
    {
     "name": "stdout",
     "output_type": "stream",
     "text": [
      "[[ 5.00566038  3.36037736  1.56226415  0.28867925]\n",
      " [ 6.30103093  2.88659794  4.95876289  1.69587629]]\n",
      "[0, 0, 0, 0, 0, 0, 0, 0, 0, 0, 0, 0, 0, 0, 0, 0, 0, 0, 0, 0, 0, 0, 0, 0, 0, 0, 0, 0, 0, 0, 0, 0, 0, 0, 0, 0, 0, 0, 0, 0, 0, 0, 0, 0, 0, 0, 0, 0, 0, 0, 1, 1, 1, 1, 1, 1, 1, 0, 1, 1, 1, 1, 1, 1, 1, 1, 1, 1, 1, 1, 1, 1, 1, 1, 1, 1, 1, 1, 1, 1, 1, 1, 1, 1, 1, 1, 1, 1, 1, 1, 1, 1, 1, 0, 1, 1, 1, 1, 0, 1, 1, 1, 1, 1, 1, 1, 1, 1, 1, 1, 1, 1, 1, 1, 1, 1, 1, 1, 1, 1, 1, 1, 1, 1, 1, 1, 1, 1, 1, 1, 1, 1, 1, 1, 1, 1, 1, 1, 1, 1, 1, 1, 1, 1, 1, 1, 1, 1, 1, 1]\n",
      "[0 0 0 0 0 0 0 0 0 0 0 0 0 0 0 0 0 0 0 0 0 0 0 0 0 0 0 0 0 0 0 0 0 0 0 0 0\n",
      " 0 0 0 0 0 0 0 0 0 0 0 0 0 1 1 1 1 1 1 1 1 1 1 1 1 1 1 1 1 1 1 1 1 1 1 1 1\n",
      " 1 1 1 1 1 1 1 1 1 1 1 1 1 1 1 1 1 1 1 1 1 1 1 1 1 1 2 2 2 2 2 2 2 2 2 2 2\n",
      " 2 2 2 2 2 2 2 2 2 2 2 2 2 2 2 2 2 2 2 2 2 2 2 2 2 2 2 2 2 2 2 2 2 2 2 2 2\n",
      " 2 2]\n"
     ]
    }
   ],
   "source": [
    "from sklearn.datasets import load_iris\n",
    "\n",
    "iris = load_iris()\n",
    "X = iris.data\n",
    "\n",
    "centroids,categories = K_means(X,2)\n",
    "print(centroids)\n",
    "print(categories)\n",
    "print(iris.target)"
   ]
  },
  {
   "cell_type": "code",
   "execution_count": null,
   "metadata": {
    "collapsed": true
   },
   "outputs": [],
   "source": []
  }
 ],
 "metadata": {
  "kernelspec": {
   "display_name": "Python 3",
   "language": "python",
   "name": "python3"
  },
  "language_info": {
   "codemirror_mode": {
    "name": "ipython",
    "version": 3
   },
   "file_extension": ".py",
   "mimetype": "text/x-python",
   "name": "python",
   "nbconvert_exporter": "python",
   "pygments_lexer": "ipython3",
   "version": "3.6.0"
  }
 },
 "nbformat": 4,
 "nbformat_minor": 2
}
